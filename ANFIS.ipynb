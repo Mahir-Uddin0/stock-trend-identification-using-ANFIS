{
 "cells": [
  {
   "cell_type": "code",
   "execution_count": 1,
   "id": "77fc7df2",
   "metadata": {},
   "outputs": [],
   "source": [
    "import pandas as pd\n",
    "import matplotlib.pyplot as plt\n",
    "import numpy as np\n",
    "import yfinance as yf\n",
    "import numpy as np\n",
    "import glob\n",
    "import gc\n",
    "import os\n",
    "from tqdm import tqdm"
   ]
  },
  {
   "cell_type": "markdown",
   "id": "147e5b71",
   "metadata": {},
   "source": [
    "## Loading Stock Data\n",
    "\n",
    "This section reads all CSV files from the specified folder containing historical stock data for NASDAQ-listed companies. Each file corresponds to a single stock and is stored in a dictionary (`stock_data`) using the stock ticker as the key.\n",
    "\n",
    "For each file:\n",
    "- Unnecessary columns (`Date`, `Open`, `High`, `Low`, `Close`) are dropped.\n",
    "- Missing values are removed.\n",
    "- A new feature `Daily_Return_%` is calculated as the percentage change in adjusted closing price."
   ]
  },
  {
   "cell_type": "code",
   "execution_count": 6,
   "id": "1863c390",
   "metadata": {},
   "outputs": [
    {
     "name": "stderr",
     "output_type": "stream",
     "text": [
      "100%|███████████████████████████████████████| 5884/5884 [15:07<00:00,  6.48it/s]\n"
     ]
    }
   ],
   "source": [
    "# Path to the folder\n",
    "folder_path = '/media/mahir_uddin/Mahir/5-2/Data Analytics/Projects/Stock Trend/Assignment Dataset/stocks'\n",
    "\n",
    "# Get list of CSV files\n",
    "csv_files = glob.glob(os.path.join(folder_path, '*.csv'))\n",
    "\n",
    "# Load into dictionary\n",
    "stock_data = {}\n",
    "\n",
    "for file in tqdm(csv_files):\n",
    "    try:\n",
    "        ticker = os.path.basename(file).replace('.csv', '')\n",
    "        df = pd.read_csv(file)\n",
    "        df = df.drop(columns=['Date','Open','High','Low','Close'])\n",
    "        df = df.dropna()\n",
    "        df['Daily_Return_%'] = df['Adj Close'].pct_change(fill_method=None).fillna(0) * 100\n",
    "        stock_data[ticker] = df   \n",
    "        \n",
    "        del df\n",
    "        gc.collect()\n",
    "        \n",
    "    except Exception as e:\n",
    "        print(f\"Error loading {file}: {e}\")\n"
   ]
  }
 ],
 "metadata": {
  "kernelspec": {
   "display_name": "Sklearn",
   "language": "python",
   "name": "sklearn"
  },
  "language_info": {
   "codemirror_mode": {
    "name": "ipython",
    "version": 3
   },
   "file_extension": ".py",
   "mimetype": "text/x-python",
   "name": "python",
   "nbconvert_exporter": "python",
   "pygments_lexer": "ipython3",
   "version": "3.12.3"
  }
 },
 "nbformat": 4,
 "nbformat_minor": 5
}
