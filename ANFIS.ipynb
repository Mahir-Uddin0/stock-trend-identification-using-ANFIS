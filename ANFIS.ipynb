{
 "cells": [
  {
   "cell_type": "code",
   "execution_count": 1,
   "id": "77fc7df2",
   "metadata": {},
   "outputs": [],
   "source": [
    "import pandas as pd\n",
    "import matplotlib.pyplot as plt\n",
    "import torch\n",
    "import torch.nn as nn\n",
    "import torch.nn.functional as F\n",
    "import numpy as np\n",
    "from sklearn.base import BaseEstimator, ClassifierMixin\n",
    "from sklearn.model_selection import train_test_split\n",
    "from sklearn.preprocessing import MinMaxScaler\n",
    "import yfinance as yf\n",
    "import ta\n",
    "from ta import momentum, trend \n",
    "import numpy as np\n",
    "import glob\n",
    "import gc\n",
    "import os\n",
    "from tqdm import tqdm"
   ]
  },
  {
   "cell_type": "code",
   "execution_count": 6,
   "id": "1863c390",
   "metadata": {},
   "outputs": [
    {
     "name": "stderr",
     "output_type": "stream",
     "text": [
      "100%|███████████████████████████████████████| 5884/5884 [15:07<00:00,  6.48it/s]\n"
     ]
    }
   ],
   "source": [
    "# Path to the folder\n",
    "folder_path = '/media/mahir_uddin/Mahir/5-2/Data Analytics/Projects/Stock Trend/Assignment Dataset/stocks'\n",
    "\n",
    "# Get list of CSV files\n",
    "csv_files = glob.glob(os.path.join(folder_path, '*.csv'))\n",
    "\n",
    "# Load into dictionary\n",
    "stock_data = {}\n",
    "\n",
    "for file in tqdm(csv_files):\n",
    "    try:\n",
    "        ticker = os.path.basename(file).replace('.csv', '')\n",
    "        df = pd.read_csv(file)\n",
    "        df = df.drop(columns=['Date','Open','High','Low','Close'])\n",
    "        df = df.dropna()\n",
    "        df['Daily_Return_%'] = df['Adj Close'].pct_change(fill_method=None).fillna(0) * 100\n",
    "        stock_data[ticker] = df   \n",
    "        \n",
    "        del df\n",
    "        gc.collect()\n",
    "        \n",
    "    except Exception as e:\n",
    "        print(f\"Error loading {file}: {e}\")\n"
   ]
  },
  {
   "cell_type": "code",
   "execution_count": 7,
   "id": "01058d76",
   "metadata": {},
   "outputs": [],
   "source": [
    "def add_indicators(stock_data, indicators):\n",
    "    combined_df = []\n",
    "    x = 0\n",
    "\n",
    "    for ticker, df in stock_data.items():\n",
    "        x += 1\n",
    "        if x % 500 == 0:\n",
    "            print(f\"Processed {x} stocks...\")\n",
    "\n",
    "        df = df.copy()  # avoid modifying the original dictionary\n",
    "\n",
    "        # --- SMA ---\n",
    "        if 'SMA' in indicators:\n",
    "            sma_periods = indicators.get('SMA', [14])\n",
    "            if not isinstance(sma_periods, list):\n",
    "                sma_periods = [sma_periods]\n",
    "            for p in sma_periods:\n",
    "                df[f'SMA_{p}'] = ta.trend.SMAIndicator(close=df['Adj Close'], window=p).sma_indicator()\n",
    "\n",
    "        # --- EMA ---\n",
    "        if 'EMA' in indicators:\n",
    "            ema_periods = indicators.get('EMA', [14])\n",
    "            if not isinstance(ema_periods, list):\n",
    "                ema_periods = [ema_periods]\n",
    "            for p in ema_periods:\n",
    "                df[f'EMA_{p}'] = ta.trend.EMAIndicator(close=df['Adj Close'], window=p).ema_indicator()\n",
    "\n",
    "        # --- RSI ---\n",
    "        if 'RSI' in indicators:\n",
    "            rsi_period = indicators.get('RSI', 14)\n",
    "            df[f'RSI_{rsi_period}'] = ta.momentum.RSIIndicator(close=df['Adj Close'], window=rsi_period).rsi()\n",
    "\n",
    "        # --- MACD ---\n",
    "        if 'MACD' in indicators:\n",
    "            macd_params = indicators.get('MACD', [12, 26, 9])\n",
    "            macd = ta.trend.MACD(close=df['Adj Close'],\n",
    "                                 window_fast=macd_params[0],\n",
    "                                 window_slow=macd_params[1],\n",
    "                                 window_sign=macd_params[2])\n",
    "            df['MACD'] = macd.macd()\n",
    "            df['MACD_Signal'] = macd.macd_signal()\n",
    "\n",
    "        # --- Volume Ratio ---\n",
    "        if 'Volume' in indicators:\n",
    "            vol_params = indicators.get('Volume', [7, 21])\n",
    "            short_avg = df['Volume'].rolling(window=vol_params[0]).mean()\n",
    "            long_avg = df['Volume'].rolling(window=vol_params[1]).mean()\n",
    "            df[f'Volume_Ratio_{vol_params[0]}_{vol_params[1]}'] = (short_avg / long_avg).replace([np.inf, -np.inf], np.nan)\n",
    "\n",
    "        df = df.dropna()\n",
    "\n",
    "        df.reset_index(drop=True, inplace=True)\n",
    "        combined_df.append(df)\n",
    "\n",
    "        del df\n",
    "        gc.collect()\n",
    "\n",
    "    return pd.concat(combined_df, ignore_index=True)\n"
   ]
  }
 ],
 "metadata": {
  "kernelspec": {
   "display_name": "Sklearn",
   "language": "python",
   "name": "sklearn"
  },
  "language_info": {
   "codemirror_mode": {
    "name": "ipython",
    "version": 3
   },
   "file_extension": ".py",
   "mimetype": "text/x-python",
   "name": "python",
   "nbconvert_exporter": "python",
   "pygments_lexer": "ipython3",
   "version": "3.12.3"
  }
 },
 "nbformat": 4,
 "nbformat_minor": 5
}
